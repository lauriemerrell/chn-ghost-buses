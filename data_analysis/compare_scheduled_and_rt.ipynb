{
 "cells": [
  {
   "cell_type": "markdown",
   "id": "f7c3d9d4",
   "metadata": {},
   "source": [
    "Read in pre-computed files of RT and scheduled data and compare!"
   ]
  },
  {
   "cell_type": "code",
   "execution_count": null,
   "id": "ad45a06d",
   "metadata": {},
   "outputs": [],
   "source": [
    "# required for pandas to read csv from aws\n",
    "import s3fs\n",
    "import os\n",
    "import pandas as pd\n",
    "import pendulum\n",
    "import shapely\n",
    "import geopandas"
   ]
  },
  {
   "cell_type": "code",
   "execution_count": null,
   "id": "91401acc",
   "metadata": {},
   "outputs": [],
   "source": [
    "start_date = '2022-05-20'\n",
    "end_date = '2022-07-16'\n",
    "\n",
    "date_range = [d for d in pendulum.period(pendulum.from_format(start_date, 'YYYY-MM-DD'), pendulum.from_format(end_date, 'YYYY-MM-DD')).range('days')]"
   ]
  },
  {
   "cell_type": "code",
   "execution_count": null,
   "id": "80e84015",
   "metadata": {},
   "outputs": [],
   "source": [
    "schedule_raw = pd.read_csv('s3://chn-ghost-buses-private/SCHEDULED_route_daily_hourly_summary.csv')"
   ]
  },
  {
   "cell_type": "code",
   "execution_count": null,
   "id": "61a71d48",
   "metadata": {
    "scrolled": true
   },
   "outputs": [],
   "source": [
    "rt_raw = pd.DataFrame()\n",
    "\n",
    "for day in date_range:\n",
    "    date_str = day.to_date_string()\n",
    "    print(f\"Processing {date_str} at {pendulum.now().to_datetime_string()}\")    \n",
    "    daily_data = pd.read_csv(f's3://chn-ghost-buses-private/bus_hourly_summary_v2/{date_str}.csv')\n",
    "    rt_raw = rt_raw.append(daily_data)"
   ]
  },
  {
   "cell_type": "code",
   "execution_count": null,
   "id": "ae89204b",
   "metadata": {},
   "outputs": [],
   "source": [
    "# basic reformatting\n",
    "rt = rt_raw.copy()\n",
    "schedule = schedule_raw.copy()\n",
    "rt['date'] = pd.to_datetime(rt.data_date, format = '%Y-%m-%d')\n",
    "rt['route_id'] = rt['rt']\n",
    "schedule['date'] = pd.to_datetime(schedule.date, format = '%Y-%m-%d')"
   ]
  },
  {
   "cell_type": "code",
   "execution_count": null,
   "id": "8c1c09f0",
   "metadata": {},
   "outputs": [],
   "source": [
    "# get total by route by day\n",
    "rt_daily_by_rte = rt.groupby(by = ['date', 'route_id'])['trip_count'].sum().reset_index()\n",
    "sched_daily_by_rte = schedule.groupby(by = ['date', 'route_id'])['trip_count'].sum().reset_index()\n"
   ]
  },
  {
   "cell_type": "code",
   "execution_count": null,
   "id": "0c3dcc53",
   "metadata": {},
   "outputs": [],
   "source": [
    "compare_daily_by_rte = rt_daily_by_rte.merge(sched_daily_by_rte, how = 'inner', \n",
    "                                             on = ['date', 'route_id'], suffixes = ['_rt', '_sched'])"
   ]
  },
  {
   "cell_type": "code",
   "execution_count": null,
   "id": "90c8b5af",
   "metadata": {},
   "outputs": [],
   "source": [
    "# compare by day of week \n",
    "compare_daily_by_rte['dayofweek'] = compare_daily_by_rte['date'].dt.dayofweek\n",
    "compare_daily_by_rte['day_type'] = compare_daily_by_rte['dayofweek'].map({0: 'wk', \n",
    "                                                                         1: 'wk',\n",
    "                                                                         2: 'wk',\n",
    "                                                                         3: 'wk',\n",
    "                                                                         4: 'wk',\n",
    "                                                                         5: 'sat',\n",
    "                                                                         6: 'sun'})\n",
    "\n",
    "compare_daily_by_rte.loc[compare_daily_by_rte.date.isin(['2022-05-31', '2022-07-04']), 'day_type'] = 'hol'"
   ]
  },
  {
   "cell_type": "code",
   "execution_count": null,
   "id": "e08d2894",
   "metadata": {},
   "outputs": [],
   "source": [
    "compare_by_day_type = compare_daily_by_rte.groupby(['route_id', 'day_type'])[['trip_count_rt', 'trip_count_sched']].sum().reset_index()"
   ]
  },
  {
   "cell_type": "code",
   "execution_count": null,
   "id": "fe395640",
   "metadata": {},
   "outputs": [],
   "source": [
    "compare_by_day_type['ratio'] = compare_by_day_type['trip_count_rt'] / compare_by_day_type['trip_count_sched']"
   ]
  },
  {
   "cell_type": "code",
   "execution_count": null,
   "id": "9147d245",
   "metadata": {},
   "outputs": [],
   "source": [
    "compare_by_day_type.sort_values(by = ['day_type', 'route_id'])"
   ]
  },
  {
   "cell_type": "code",
   "execution_count": null,
   "id": "0f2d5ad8",
   "metadata": {},
   "outputs": [],
   "source": [
    "compare_by_day_type[compare_by_day_type.day_type == 'wk'].sort_values(by = 'ratio')"
   ]
  },
  {
   "cell_type": "code",
   "execution_count": null,
   "id": "7fc3b84d",
   "metadata": {},
   "outputs": [],
   "source": [
    "compare_by_day_type.to_csv('initial_comparison.csv')"
   ]
  },
  {
   "cell_type": "code",
   "execution_count": null,
   "id": "a67fd068",
   "metadata": {},
   "outputs": [],
   "source": []
  }
 ],
 "metadata": {
  "kernelspec": {
   "display_name": "base_conda",
   "language": "python",
   "name": "base_conda"
  },
  "language_info": {
   "codemirror_mode": {
    "name": "ipython",
    "version": 3
   },
   "file_extension": ".py",
   "mimetype": "text/x-python",
   "name": "python",
   "nbconvert_exporter": "python",
   "pygments_lexer": "ipython3",
   "version": "3.9.7"
  }
 },
 "nbformat": 4,
 "nbformat_minor": 5
}
